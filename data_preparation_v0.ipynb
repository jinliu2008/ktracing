{
 "cells": [
  {
   "cell_type": "code",
   "execution_count": 1,
   "metadata": {},
   "outputs": [
    {
     "name": "stdout",
     "output_type": "stream",
     "text": [
      "     row_id    timestamp    user_id  content_id  content_type_id  \\\n",
      "0   8397970   4262102706  182409185        6453            False   \n",
      "1  20812912    517620787  446779249        2559            False   \n",
      "2  36137884    806437369  771671654        6566            False   \n",
      "3   8965114  40535648423  195283080        6191            False   \n",
      "4  19657114       943355  422291583        7217            False   \n",
      "\n",
      "   task_container_id  user_answer  answered_correctly  \\\n",
      "0                540            0                   0   \n",
      "1                109            0                   0   \n",
      "2                476            0                   0   \n",
      "3                127            0                   0   \n",
      "4                 15            0                   0   \n",
      "\n",
      "   prior_question_elapsed_time  prior_question_had_explanation  \n",
      "0                       3000.0                            True  \n",
      "1                      31667.0                            True  \n",
      "2                      37250.0                            True  \n",
      "3                      66000.0                            True  \n",
      "4                      45000.0                           False  \n",
      "Wall time: 11.3 s\n"
     ]
    }
   ],
   "source": [
    "%%time\n",
    "\n",
    "dtypes = {\n",
    "    \"row_id\": \"int64\",\n",
    "    \"timestamp\": \"int64\",\n",
    "    \"user_id\": \"int32\",\n",
    "    \"content_id\": \"int16\",\n",
    "    \"content_type_id\": \"boolean\",\n",
    "    \"task_container_id\": \"int16\",\n",
    "    \"user_answer\": \"int8\",\n",
    "    \"answered_correctly\": \"int8\",\n",
    "    \"prior_question_elapsed_time\": \"float32\",\n",
    "    \"prior_question_had_explanation\": \"boolean\"\n",
    "}\n",
    "import pandas as pd\n",
    "import gcsfs\n",
    "fs = gcsfs.GCSFileSystem(token=r\"C:\\Users\\meipaopao\\PycharmProjects\\ktracing_gcs.json\")\n",
    "\n",
    "#with fs.open('gs://ktracing/train_v0-000000000000.csv') as f:\n",
    "#    df = pd.read_csv(f, dtype=dtypes)\n",
    "\n",
    "df = pd.read_pickle('train_v0.pkl')\n",
    "print(df.head())"
   ]
  },
  {
   "cell_type": "code",
   "execution_count": 2,
   "metadata": {},
   "outputs": [],
   "source": [
    "\n",
    "from embedder.regression import Embedder\n",
    "from embedder.preprocessing import (categorize,\n",
    "     pick_emb_dim, encode_categorical, get_embed_df)\n",
    "\n",
    "def summary_statistics(train):\n",
    "    results_c = train[['content_id','answered_correctly']].groupby(['content_id']).agg(['mean'])\n",
    "    results_c.columns = [\"answered_correctly_content\"]\n",
    "    results_u = train[['user_id','answered_correctly']].groupby(['user_id']).agg(['mean', 'sum'])\n",
    "    results_u.columns = [\"answered_correctly_user\", 'sum']\n",
    "    results_c.to_pickle('results_c.pkl')\n",
    "    results_u.to_pickle('results_u.pkl')\n",
    "    return results_c, results_u\n",
    "\n",
    "def get_embdded_df(data, target='answered_correctly', cols=['content_id']):\n",
    "    cat_vars = categorize(data, cols=cols)\n",
    "    embedding_dict = pick_emb_dim(cat_vars, max_dim=20)\n",
    "    data_x, data_y = data.drop([target],axis=1), data[target]\n",
    "    data_x_encoded, encoders = encode_categorical(data_x, cols=cols)\n",
    "    # embedding training\n",
    "    embedder = Embedder(embedding_dict, model_json=None)\n",
    "    embedder.fit(data_x_encoded[cols], data_y, epochs=1)\n",
    "    embeddings = embedder.get_embeddings()\n",
    "    return embeddings, encoders\n",
    "\n",
    "def add_embedding(data,encoders, embeddings):\n",
    "    return get_embed_df(data, encoders, embeddings)\n",
    "\n",
    "def get_train_data(df, target = 'answered_correctly'):\n",
    "    train = df[df.content_type_id == False]\n",
    "    results_c, results_u = summary_statistics(train)\n",
    "\n",
    "    train = pd.merge(train, results_u, on=['user_id'], how=\"left\")\n",
    "    train = pd.merge(train, results_c, on=['content_id'], how=\"left\")\n",
    "\n",
    "    X = train.drop([target], axis=1)\n",
    "    X['answered_correctly_user'].fillna(0.5,  inplace=True)\n",
    "    X['answered_correctly_content'].fillna(0.5,  inplace=True)\n",
    "    X.fillna(0, inplace = True)\n",
    "    Y = train[[\"answered_correctly\"]]\n",
    "    return X, Y"
   ]
  },
  {
   "cell_type": "code",
   "execution_count": 3,
   "metadata": {},
   "outputs": [
    {
     "name": "stdout",
     "output_type": "stream",
     "text": [
      "     row_id    timestamp    user_id  content_id  content_type_id  \\\n",
      "0   8397970   4262102706  182409185        6453            False   \n",
      "1  20812912    517620787  446779249        2559            False   \n",
      "2  36137884    806437369  771671654        6566            False   \n",
      "3   8965114  40535648423  195283080        6191            False   \n",
      "4  19657114       943355  422291583        7217            False   \n",
      "\n",
      "   task_container_id  user_answer  prior_question_elapsed_time  \\\n",
      "0                540            0                       3000.0   \n",
      "1                109            0                      31667.0   \n",
      "2                476            0                      37250.0   \n",
      "3                127            0                      66000.0   \n",
      "4                 15            0                      45000.0   \n",
      "\n",
      "   prior_question_had_explanation  answered_correctly_user    sum  \\\n",
      "0                            True                 0.575758   38.0   \n",
      "1                            True                 0.650000   13.0   \n",
      "2                            True                 0.726962  213.0   \n",
      "3                            True                 0.761905   16.0   \n",
      "4                           False                 0.525641   41.0   \n",
      "\n",
      "   answered_correctly_content  \n",
      "0                    0.344771  \n",
      "1                    0.686888  \n",
      "2                    0.530039  \n",
      "3                    0.629534  \n",
      "4                    0.562880  \n",
      "Wall time: 5.55 s\n"
     ]
    }
   ],
   "source": [
    "%%time\n",
    "\n",
    "X, Y = get_train_data(df)\n",
    "\n",
    "print(X.head())"
   ]
  },
  {
   "cell_type": "code",
   "execution_count": 4,
   "metadata": {},
   "outputs": [
    {
     "name": "stdout",
     "output_type": "stream",
     "text": [
      "20939/20939 [==============================] - 105s 5ms/step - loss: 0.2008 - r2: 0.1210 - val_loss: 0.1894 - val_r2: -482962880.0000\n",
      "Wall time: 4min 49s\n"
     ]
    }
   ],
   "source": [
    "%%time \n",
    "\n",
    "embeddings, encoders = get_embdded_df(df[df.content_type_id == False], cols=['content_id'])\n",
    "X_embedded = add_embedding(X,encoders, embeddings)"
   ]
  },
  {
   "cell_type": "code",
   "execution_count": 5,
   "metadata": {},
   "outputs": [
    {
     "name": "stdout",
     "output_type": "stream",
     "text": [
      "(13500, 20)\n",
      "(6834063, 10)\n",
      "(6700354, 31)\n",
      "['row_id', 'timestamp', 'user_id', 'content_type_id', 'task_container_id', 'user_answer', 'prior_question_elapsed_time', 'prior_question_had_explanation', 'answered_correctly_user', 'sum', 'answered_correctly_content', 'embed_content_id0', 'embed_content_id1', 'embed_content_id2', 'embed_content_id3', 'embed_content_id4', 'embed_content_id5', 'embed_content_id6', 'embed_content_id7', 'embed_content_id8', 'embed_content_id9', 'embed_content_id10', 'embed_content_id11', 'embed_content_id12', 'embed_content_id13', 'embed_content_id14', 'embed_content_id15', 'embed_content_id16', 'embed_content_id17', 'embed_content_id18', 'embed_content_id19']\n"
     ]
    }
   ],
   "source": [
    "print(embeddings['content_id'].shape)\n",
    "print(df.shape)\n",
    "print(X_embedded.shape)\n",
    "print(X_embedded.columns.to_list())\n"
   ]
  },
  {
   "cell_type": "code",
   "execution_count": 6,
   "metadata": {},
   "outputs": [
    {
     "data": {
      "text/html": [
       "<style type='text/css'>\n",
       ".datatable table.frame { margin-bottom: 0; }\n",
       ".datatable table.frame thead { border-bottom: none; }\n",
       ".datatable table.frame tr.coltypes td {  color: #FFFFFF;  line-height: 6px;  padding: 0 0.5em;}\n",
       ".datatable .bool    { background: #DDDD99; }\n",
       ".datatable .object  { background: #565656; }\n",
       ".datatable .int     { background: #5D9E5D; }\n",
       ".datatable .float   { background: #4040CC; }\n",
       ".datatable .str     { background: #CC4040; }\n",
       ".datatable .row_index {  background: var(--jp-border-color3);  border-right: 1px solid var(--jp-border-color0);  color: var(--jp-ui-font-color3);  font-size: 9px;}\n",
       ".datatable .frame tr.coltypes .row_index {  background: var(--jp-border-color0);}\n",
       ".datatable th:nth-child(2) { padding-left: 12px; }\n",
       ".datatable .hellipsis {  color: var(--jp-cell-editor-border-color);}\n",
       ".datatable .vellipsis {  background: var(--jp-layout-color0);  color: var(--jp-cell-editor-border-color);}\n",
       ".datatable .na {  color: var(--jp-cell-editor-border-color);  font-size: 80%;}\n",
       ".datatable .footer { font-size: 9px; }\n",
       ".datatable .frame_dimensions {  background: var(--jp-border-color3);  border-top: 1px solid var(--jp-border-color0);  color: var(--jp-ui-font-color3);  display: inline-block;  opacity: 0.6;  padding: 1px 10px 1px 5px;}\n",
       "</style>\n"
      ],
      "text/plain": [
       "<IPython.core.display.HTML object>"
      ]
     },
     "metadata": {},
     "output_type": "display_data"
    },
    {
     "name": "stderr",
     "output_type": "stream",
     "text": [
      "c:\\users\\meipaopao\\pycharmprojects\\ktracing\\venv\\lib\\site-packages\\sklearn\\utils\\validation.py:72: DataConversionWarning: A column-vector y was passed when a 1d array was expected. Please change the shape of y to (n_samples, ), for example using ravel().\n",
      "  return f(**kwargs)\n"
     ]
    },
    {
     "name": "stdout",
     "output_type": "stream",
     "text": [
      "     row_id    timestamp    user_id  content_id  content_type_id  \\\n",
      "0   8397970   4262102706  182409185        6453            False   \n",
      "1  20812912    517620787  446779249        2559            False   \n",
      "2  36137884    806437369  771671654        6566            False   \n",
      "3   8965114  40535648423  195283080        6191            False   \n",
      "4  19657114       943355  422291583        7217            False   \n",
      "\n",
      "   task_container_id  user_answer  answered_correctly  \\\n",
      "0                540            0                   0   \n",
      "1                109            0                   0   \n",
      "2                476            0                   0   \n",
      "3                127            0                   0   \n",
      "4                 15            0                   0   \n",
      "\n",
      "   prior_question_elapsed_time  prior_question_had_explanation  \n",
      "0                       3000.0                            True  \n",
      "1                      31667.0                            True  \n",
      "2                      37250.0                            True  \n",
      "3                      66000.0                            True  \n",
      "4                      45000.0                           False  \n",
      "Wall time: 3min 50s\n"
     ]
    },
    {
     "data": {
      "text/plain": [
       "['lgb_with_embed_v0.pkl']"
      ]
     },
     "execution_count": 6,
     "metadata": {},
     "output_type": "execute_result"
    }
   ],
   "source": [
    "%%time\n",
    "\n",
    "features= [ 'answered_correctly_user', 'sum', 'answered_correctly_content'] +[col for col in X_embedded.columns if col.startswith('embed_')]\n",
    "\n",
    "param = {'num_leaves': 50, 'learning_rate': 0.1, 'subsample_for_bin': 130000, 'min_child_samples': 470, 'reg_alpha': 0.5, \n",
    "         'reg_lambda': 0.26, 'subsample': 0.5, 'is_unbalance': False, 'n_estimators': 1000, 'objective': 'binary', 'random_state': 126}\n",
    "\n",
    "import lightgbm as lgb\n",
    "\n",
    "model = lgb.LGBMClassifier(**param)\n",
    "import numpy as np\n",
    "model.fit(X_embedded[features], Y)\n",
    "\n",
    "print(df.head())\n",
    "\n",
    "import joblib\n",
    "# save model\n",
    "joblib.dump(model, 'lgb_with_embed_v0.pkl')\n",
    "\n",
    "#print(roc_auc_score(y_true, y_pred))\n"
   ]
  },
  {
   "cell_type": "code",
   "execution_count": 7,
   "metadata": {},
   "outputs": [
    {
     "name": "stdout",
     "output_type": "stream",
     "text": [
      "     row_id    timestamp    user_id  content_id  content_type_id  \\\n",
      "0  26744957  15641556504  570755459        6732            False   \n",
      "1  14035461  13777137344  303797635        2695            False   \n",
      "2   8715551  11729193944  189628710        5450            False   \n",
      "3  28104169   3851379344  600053766        7147            False   \n",
      "4  16388976   1828721641  352075120        7676            False   \n",
      "\n",
      "   task_container_id  user_answer  answered_correctly  \\\n",
      "0               3033            0                   0   \n",
      "1               1175            0                   0   \n",
      "2                164            0                   0   \n",
      "3                828            0                   0   \n",
      "4                265            0                   0   \n",
      "\n",
      "   prior_question_elapsed_time  prior_question_had_explanation  \n",
      "0                      38500.0                            True  \n",
      "1                       4333.0                            True  \n",
      "2                      49000.0                            True  \n",
      "3                      73000.0                            True  \n",
      "4                      18666.0                            True  \n",
      "Wall time: 1min 14s\n"
     ]
    }
   ],
   "source": [
    "%%time\n",
    "\n",
    "with fs.open('ktracing/validation_v0-000000000000.csv') as f:\n",
    "    df_val = pd.read_csv(f, dtype=dtypes)\n",
    "print(df_val.head())\n"
   ]
  },
  {
   "cell_type": "code",
   "execution_count": 8,
   "metadata": {},
   "outputs": [
    {
     "name": "stdout",
     "output_type": "stream",
     "text": [
      "0.636376067788862\n"
     ]
    }
   ],
   "source": [
    "# df_val.to_pickle('validation_v0.pkl')\n",
    "# encoders.to_pickle('encoders_content_id_v0.pkl')\n",
    "# embeddings.to_pickle('embeddings_content_id_v0.pkl')\n",
    "print(df_val['answered_correctly'].mean())"
   ]
  },
  {
   "cell_type": "code",
   "execution_count": 9,
   "metadata": {},
   "outputs": [
    {
     "name": "stdout",
     "output_type": "stream",
     "text": [
      "     row_id    timestamp    user_id  content_id  content_type_id  \\\n",
      "0  26744957  15641556504  570755459        6732            False   \n",
      "1  14035461  13777137344  303797635        2695            False   \n",
      "2   8715551  11729193944  189628710        5450            False   \n",
      "3  28104169   3851379344  600053766        7147            False   \n",
      "4  16388976   1828721641  352075120        7676            False   \n",
      "\n",
      "   task_container_id  user_answer  prior_question_elapsed_time  \\\n",
      "0               3033            0                      38500.0   \n",
      "1               1175            0                       4333.0   \n",
      "2                164            0                      49000.0   \n",
      "3                828            0                      73000.0   \n",
      "4                265            0                      18666.0   \n",
      "\n",
      "   prior_question_had_explanation  answered_correctly_user    sum  \\\n",
      "0                            True                 0.678851  260.0   \n",
      "1                            True                 0.750000   63.0   \n",
      "2                            True                 0.125000    2.0   \n",
      "3                            True                 0.659091   29.0   \n",
      "4                            True                 0.428571   18.0   \n",
      "\n",
      "   answered_correctly_content  \n",
      "0                    0.794953  \n",
      "1                    0.406250  \n",
      "2                    0.821138  \n",
      "3                    0.625263  \n",
      "4                    0.746835  \n"
     ]
    }
   ],
   "source": [
    "\n",
    "X_val, Y_val = get_train_data(df_val)\n",
    "\n",
    "print(X_val.head())"
   ]
  },
  {
   "cell_type": "code",
   "execution_count": 10,
   "metadata": {},
   "outputs": [
    {
     "name": "stdout",
     "output_type": "stream",
     "text": [
      "score: 0.7933783256717847\n",
      "pred: 0.6740613346090522\n",
      "true: answered_correctly    0.667605\n",
      "dtype: float64\n"
     ]
    }
   ],
   "source": [
    "from sklearn.metrics import roc_auc_score\n",
    "\n",
    "X_val_embedded = add_embedding(X_val,encoders, embeddings)\n",
    "Y_pred = model.predict_proba(X_val_embedded[features])[:, 1]\n",
    "\n",
    "print('score:', roc_auc_score(Y_val, Y_pred))\n",
    "\n",
    "print('pred:', Y_pred.mean())\n",
    "print('true:', Y_val.mean())"
   ]
  },
  {
   "cell_type": "code",
   "execution_count": 11,
   "metadata": {},
   "outputs": [
    {
     "data": {
      "text/plain": [
       "['lgb.pkl']"
      ]
     },
     "execution_count": 11,
     "metadata": {},
     "output_type": "execute_result"
    }
   ],
   "source": [
    "import joblib\n",
    "# save model\n",
    "joblib.dump(model, 'lgb.pkl')"
   ]
  },
  {
   "cell_type": "code",
   "execution_count": null,
   "metadata": {},
   "outputs": [],
   "source": []
  }
 ],
 "metadata": {
  "kernelspec": {
   "display_name": "Python 3",
   "language": "python",
   "name": "python3"
  },
  "language_info": {
   "codemirror_mode": {
    "name": "ipython",
    "version": 3
   },
   "file_extension": ".py",
   "mimetype": "text/x-python",
   "name": "python",
   "nbconvert_exporter": "python",
   "pygments_lexer": "ipython3",
   "version": "3.6.5"
  }
 },
 "nbformat": 4,
 "nbformat_minor": 4
}
